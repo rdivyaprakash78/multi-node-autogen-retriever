{
 "cells": [
  {
   "cell_type": "code",
   "execution_count": 10,
   "metadata": {},
   "outputs": [],
   "source": [
    "import autogen\n",
    "import os\n",
    "from dotenv import load_dotenv\n",
    "from groq import Groq\n",
    "import instructor\n",
    "from pydantic import BaseModel, Field\n",
    "from typing import List"
   ]
  },
  {
   "cell_type": "code",
   "execution_count": 8,
   "metadata": {},
   "outputs": [],
   "source": [
    "load_dotenv()\n",
    "client = Groq(api_key=os.environ.get(\"GROQ_API_KEY\"))\n",
    "client = instructor.from_groq(client, mode=instructor.Mode.TOOLS)"
   ]
  },
  {
   "cell_type": "code",
   "execution_count": 11,
   "metadata": {},
   "outputs": [],
   "source": [
    "class Filmography(BaseModel):\n",
    "    title : str = Field(description=\"title of the movie\")\n",
    "    release_date : str = Field(description=\"release date of the movie\")\n",
    "    director : str = Field(description=\"name of the director\")\n",
    "\n",
    "class Movie(BaseModel):\n",
    "    movie : List[Filmography] = Field(description=\"List of movies along with their attributes as defined.\")\n",
    "\n",
    "resp = client.chat.completions.create(\n",
    "    model=\"mixtral-8x7b-32768\",\n",
    "    messages=[\n",
    "        {\n",
    "            \"role\": \"user\",\n",
    "            \"content\": \"List all time top 10 movies of Rajinikanth\",\n",
    "        }\n",
    "    ],\n",
    "    response_model=Movie,\n",
    ")"
   ]
  },
  {
   "cell_type": "code",
   "execution_count": 13,
   "metadata": {},
   "outputs": [
    {
     "data": {
      "text/plain": [
       "[Filmography(title='Baasha', release_date='1995-05-15', director='Suresh Krissna'),\n",
       " Filmography(title='Muthu', release_date='1995-08-15', director='K.S. Ravikumar'),\n",
       " Filmography(title='Padayappa', release_date='1999-04-17', director='K.S. Ravikumar'),\n",
       " Filmography(title='Chandramukhi', release_date='2005-04-14', director='P. Vasu'),\n",
       " Filmography(title='Sivaji', release_date='2007-08-15', director='S. Shankar'),\n",
       " Filmography(title='Enthiran', release_date='2010-10-01', director='S. Shankar'),\n",
       " Filmography(title='Kabali', release_date='2016-07-22', director='Pa. Ranjith'),\n",
       " Filmography(title='Kaala', release_date='2018-06-07', director='Pa. Ranjith'),\n",
       " Filmography(title='Petta', release_date='2019-01-10', director='K.S. Ravikumar'),\n",
       " Filmography(title='Darbar', release_date='2020-01-09', director='A.R. Murugadoss')]"
      ]
     },
     "execution_count": 13,
     "metadata": {},
     "output_type": "execute_result"
    }
   ],
   "source": [
    "resp.movie"
   ]
  },
  {
   "cell_type": "code",
   "execution_count": null,
   "metadata": {},
   "outputs": [],
   "source": []
  }
 ],
 "metadata": {
  "kernelspec": {
   "display_name": "myenv",
   "language": "python",
   "name": "python3"
  },
  "language_info": {
   "codemirror_mode": {
    "name": "ipython",
    "version": 3
   },
   "file_extension": ".py",
   "mimetype": "text/x-python",
   "name": "python",
   "nbconvert_exporter": "python",
   "pygments_lexer": "ipython3",
   "version": "3.11.0"
  }
 },
 "nbformat": 4,
 "nbformat_minor": 2
}
